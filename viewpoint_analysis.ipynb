{
 "cells": [
  {
   "cell_type": "code",
   "execution_count": null,
   "metadata": {},
   "outputs": [],
   "source": [
    "#coding=utf-8\n",
    "import numpy as np\n",
    "from sklearn.model_selection import train_test_split\n",
    "from keras import layers as KL\n",
    "from keras_contrib import layers as KCL"
   ]
  },
  {
   "cell_type": "markdown",
   "metadata": {},
   "source": [
    "## Load image labels"
   ]
  },
  {
   "cell_type": "code",
   "execution_count": null,
   "metadata": {
    "collapsed": true
   },
   "outputs": [],
   "source": [
    "def load_gt(path):\n",
    "    d = {}\n",
    "    for line in open(path):\n",
    "        lineL = line.strip().split(\"\\t\")\n",
    "        img_name = lineL[0]\n",
    "        boxes = lineL[1].split(\" \")\n",
    "        if img_name not in d:\n",
    "            d[img_name] = []\n",
    "        for box in boxes:\n",
    "            boxL = box.split(\"\\001\")\n",
    "            box_name = boxL[0]\n",
    "            loc = [float(x) for x in boxL[1].split(\",\")]\n",
    "            d[img_name].append([box_name, loc])\n",
    "    return d\n",
    "\n",
    "componnet_path = \"data/laowang_component_train.txt\" \n",
    "detail_path = \"data/laowang_detail_train.txt\"\n",
    "\n",
    "componnet_labels = load_gt(componnet_path)"
   ]
  },
  {
   "cell_type": "markdown",
   "metadata": {},
   "source": [
    "### 构建transactions"
   ]
  },
  {
   "cell_type": "code",
   "execution_count": null,
   "metadata": {},
   "outputs": [],
   "source": [
    "name_list = [sorted(v,key=lambda x:(x[1][0],x[1][1])) for k,v in componnet_labels.iteritems()]\n",
    "transactions = name_list\n",
    "print(\"transactions length:\", len(transactions))\n",
    "\n",
    "trans = list(map(lambda x: [a[0] for a in x], name_list))\n",
    "print(\"trans length:\", len(trans))\n",
    "trans"
   ]
  },
  {
   "cell_type": "markdown",
   "metadata": {},
   "source": [
    "### 将所有方向和部件分开"
   ]
  },
  {
   "cell_type": "code",
   "execution_count": null,
   "metadata": {},
   "outputs": [],
   "source": [
    "def get_name_direct(part_name):\n",
    "    x = part_name.split('_')\n",
    "    direct, part = \"_\".join(x[:-1]), x[-1]\n",
    "    return direct, part\n",
    "\n",
    "parts = []\n",
    "directions = []\n",
    "parts_labels = set()\n",
    "direct_labels = set()\n",
    "for x in trans:\n",
    "    part_tmp, label_tmp = [],[]\n",
    "    for part_name in x:\n",
    "        direct, part = get_name_direct(part_name)\n",
    "        \n",
    "        part_tmp.append(part)\n",
    "        label_tmp.append(direct)\n",
    "        \n",
    "        parts_labels.add(part)\n",
    "        direct_labels.add(direct)\n",
    "    if part_tmp in parts:\n",
    "        continue\n",
    "    parts.append(part_tmp)\n",
    "    directions.append(label_tmp)\n",
    "    \n",
    "print(\"parts:{} directions:{}\".format(len(parts), len(directions)))\n"
   ]
  },
  {
   "cell_type": "code",
   "execution_count": null,
   "metadata": {
    "collapsed": true
   },
   "outputs": [],
   "source": [
    "parts_labels = ['#']+sorted(list(parts_labels))\n",
    "parts2id_map = dict([(v, id) for id, v in enumerate(parts_labels)])\n",
    "\n",
    "direct_labels = sorted(list(direct_labels))\n",
    "direct2id_map = dict([(v, id) for id, v in enumerate(direct_labels)])"
   ]
  },
  {
   "cell_type": "markdown",
   "metadata": {},
   "source": [
    "### 部件 <-> id  和   方向 <-> id"
   ]
  },
  {
   "cell_type": "code",
   "execution_count": null,
   "metadata": {
    "collapsed": true
   },
   "outputs": [],
   "source": [
    "part2id_func = lambda x: parts2id_map[x]\n",
    "id2part_func = lambda x: parts_labels[x]\n",
    "\n",
    "direct2id_func = lambda x: direct2id_map[x]\n",
    "id2direct_func = lambda x: direct_labels[x]"
   ]
  },
  {
   "cell_type": "markdown",
   "metadata": {},
   "source": [
    "### 将部件和方向全部转换为id表示"
   ]
  },
  {
   "cell_type": "code",
   "execution_count": null,
   "metadata": {
    "collapsed": true
   },
   "outputs": [],
   "source": [
    "X = [ list(map(part2id_func, x)) for x in parts]\n",
    "Y = [ list(map(direct2id_func, x)) for x in directions]"
   ]
  },
  {
   "cell_type": "markdown",
   "metadata": {},
   "source": [
    "### 把训练集X, Y所有padding成最长长度"
   ]
  },
  {
   "cell_type": "code",
   "execution_count": null,
   "metadata": {
    "collapsed": true
   },
   "outputs": [],
   "source": [
    "real_length = list(map(len, X))\n",
    "max_len = max(real_length)\n",
    "X = [np.array(x, dtype=np.int32) for x in X]\n",
    "Y = [np.array(x, dtype=np.int32) for x in Y]\n",
    "X = np.array([np.pad(x,(0,max_len-len(x)),'constant') for x in X], dtype=np.int32)\n",
    "Y = np.array([np.pad(x,(0,max_len-len(x)),'constant') for x in Y], dtype=np.int32)"
   ]
  },
  {
   "cell_type": "markdown",
   "metadata": {},
   "source": [
    "### 训练数据生成器"
   ]
  },
  {
   "cell_type": "code",
   "execution_count": null,
   "metadata": {},
   "outputs": [],
   "source": [
    "def gen_train_batch(X, Y, batch_size=64):\n",
    "    data_size = X.shape[0] // batch_size\n",
    "    while True:\n",
    "        inx = np.arange(X.shape[0])\n",
    "        np.random.shuffle(inx)\n",
    "        X = X[inx,...]\n",
    "        Y = Y[inx,...]\n",
    "        for it in range(data_size):\n",
    "            x = X[it*batch_size:(it+1)*batch_size,...]\n",
    "            y = Y[it*batch_size:(it+1)*batch_size,...]\n",
    "            yield x,y[:,:,np.newaxis]\n",
    "\n",
    "x, y = gen_train_batch(X,Y).next()\n",
    "print(\"x:{} y:{}\".format(x.shape, y.shape))"
   ]
  },
  {
   "cell_type": "markdown",
   "metadata": {},
   "source": [
    "###  划分训练集和测试集"
   ]
  },
  {
   "cell_type": "code",
   "execution_count": null,
   "metadata": {},
   "outputs": [],
   "source": [
    "X_train, X_test, y_train, y_test = train_test_split(X, Y, test_size=0.2, random_state=42)\n",
    "print(\"X_train:{} y_train:{}\\nX_test:{} y_test:{}\".format(X_train.shape[0],y_train.shape[0],X_test.shape[0],y_test.shape[0]))"
   ]
  },
  {
   "cell_type": "markdown",
   "metadata": {},
   "source": [
    "### BiLSTM+CRF"
   ]
  },
  {
   "cell_type": "code",
   "execution_count": null,
   "metadata": {},
   "outputs": [],
   "source": [
    "\n",
    "from keras.models import Model\n",
    "\n",
    "embedding_size = 128\n",
    "\n",
    "inputs = KL.Input(shape=(38,))\n",
    "x =  KL.Embedding(len(parts_labels), embedding_size, input_length=38, mask_zero=True)(inputs)\n",
    "x = KL.Bidirectional(KL.LSTM(512, return_sequences=True))(x)\n",
    "\n",
    "crf = KCL.CRF(len(direct_labels), sparse_target=True)\n",
    "\n",
    "x = crf(x)\n",
    "print x.get_shape()\n",
    "\n",
    "model = Model(inputs,x)\n",
    "model.compile('adam', loss=crf.loss_function, metrics=[crf.accuracy])"
   ]
  },
  {
   "cell_type": "markdown",
   "metadata": {},
   "source": [
    "### 训练模型"
   ]
  },
  {
   "cell_type": "code",
   "execution_count": null,
   "metadata": {},
   "outputs": [],
   "source": [
    "train_gen = gen_train_batch(X_train,y_train)\n",
    "test_gen = gen_train_batch(X_test, y_test)\n",
    "\n",
    "model.fit_generator(train_gen, steps_per_epoch=1000, epochs=50, verbose=1, callbacks=None, validation_data=test_gen, validation_steps=100, class_weight=None, max_queue_size=10, workers=4, use_multiprocessing=True, shuffle=True, initial_epoch=0)"
   ]
  },
  {
   "cell_type": "markdown",
   "metadata": {},
   "source": [
    "### 保存模型"
   ]
  },
  {
   "cell_type": "code",
   "execution_count": null,
   "metadata": {
    "collapsed": true
   },
   "outputs": [],
   "source": [
    "model.save('biLSTM_CRF.h5')"
   ]
  },
  {
   "cell_type": "markdown",
   "metadata": {},
   "source": [
    "### 测试模型输出"
   ]
  },
  {
   "cell_type": "code",
   "execution_count": null,
   "metadata": {
    "collapsed": true
   },
   "outputs": [],
   "source": [
    "def display(x, dtype):\n",
    "    assert dtype in ['direct', 'part']\n",
    "    assert len(x.shape) == 2, 'invalid shape for input' # n, parts_or_direction_number\n",
    "    n, m = x.shape\n",
    "    view = []\n",
    "    for i in range(n):\n",
    "        cv = []\n",
    "        for j in range(m):\n",
    "            name = id2part_func(x[i,j]) if dtype=='part' else id2direct_func(x[i,j])\n",
    "            cv.append(name)\n",
    "        view.append(cv)\n",
    "    return view\n",
    "    \n",
    "def display_total(x, y):\n",
    "    view_x = display(x, 'part')\n",
    "    view_y = display(y, 'direct')\n",
    "    lst = []\n",
    "    for a,b in zip(view_x, view_y):\n",
    "        tmp = []\n",
    "        for item, ori in zip(a,b):\n",
    "            if item==\"#\":\n",
    "                continue\n",
    "            tmp.append(ori+\"_\"+item if ori else item)\n",
    "        lst.append(tmp)\n",
    "    return lst\n",
    "            "
   ]
  },
  {
   "cell_type": "code",
   "execution_count": null,
   "metadata": {},
   "outputs": [],
   "source": [
    "# 从测试集中随机取几条数据\n",
    "grabs = 1\n",
    "test_size = X_test.shape[0]\n",
    "randstart = np.random.randint(test_size-grabs)\n",
    "x = X_test[randstart:randstart+grabs,...] #grabs, 38\n",
    "y = y_test[randstart:randstart+grabs,...] #grabs, 38\n",
    "x1 = np.array([[ 2,  9, 14, 10,  8, 11, 18,  0,  0,  0,  0,  0,  0,  0,  0,  0,  0,\n",
    "         0,  0,  0,  0,  0,  0,  0,  0,  0,  0,  0,  0,  0,  0,  0,  0,  0,\n",
    "         0,  0,  0,  0]], dtype=np.int32)\n",
    "# x1 = np.stack([x[0][:1], x[0][2:]], axis=-1)\n",
    "# display(x, 'part')\n",
    "# display(y, 'direct')\n",
    "display_total(x, y)"
   ]
  },
  {
   "cell_type": "code",
   "execution_count": null,
   "metadata": {},
   "outputs": [],
   "source": [
    "from keras_contrib import *\n",
    "from keras.models import load_model\n",
    "from keras_contrib.layers import CRF\n",
    "from keras.models import Model\n",
    "\n",
    "def build_model():\n",
    "    embedding_size = 128\n",
    "    inputs = KL.Input(shape=(38,))\n",
    "    x =  KL.Embedding(len(parts_labels), embedding_size, input_length=38, mask_zero=True)(inputs)\n",
    "    x = KL.Bidirectional(KL.LSTM(512, return_sequences=True))(x)\n",
    "    crf = KCL.CRF(len(direct_labels), sparse_target=True)\n",
    "    x = crf(x)\n",
    "    model = Model(inputs,x)\n",
    "    return model\n",
    "\n",
    "\n",
    "model = build_model()\n",
    "model.load_weights('biLSTM_CRF.h5')\n",
    "model"
   ]
  },
  {
   "cell_type": "markdown",
   "metadata": {},
   "source": [
    "### 预测"
   ]
  },
  {
   "cell_type": "code",
   "execution_count": null,
   "metadata": {},
   "outputs": [],
   "source": [
    "y_hat = model.predict(x1) \n",
    "l = np.argmax(y_hat, axis=-1)\n",
    "display_total(x,l)"
   ]
  },
  {
   "cell_type": "markdown",
   "metadata": {},
   "source": [
    "## 挖掘频繁模式"
   ]
  },
  {
   "cell_type": "markdown",
   "metadata": {},
   "source": [
    "### 构建transactions"
   ]
  },
  {
   "cell_type": "code",
   "execution_count": null,
   "metadata": {},
   "outputs": [],
   "source": []
  },
  {
   "cell_type": "markdown",
   "metadata": {},
   "source": [
    "### 挖掘transaction中频繁模式"
   ]
  },
  {
   "cell_type": "code",
   "execution_count": null,
   "metadata": {},
   "outputs": [],
   "source": [
    "minsup = 5000\n",
    "for itemset in find_frequent_itemsets(transactions, minsup):\n",
    "    print itemset"
   ]
  },
  {
   "cell_type": "code",
   "execution_count": null,
   "metadata": {
    "collapsed": true
   },
   "outputs": [],
   "source": [
    "## 同时有左和右的部件数"
   ]
  },
  {
   "cell_type": "code",
   "execution_count": null,
   "metadata": {},
   "outputs": [],
   "source": [
    "transacs_with_lr = []\n",
    "transacs_with_l=[]\n",
    "transacs_with_r=[]\n",
    "for ts in transactions:\n",
    "    #if any([\"left\" in x for x in ts]) and any([\"right\" in x for x in ts]):\n",
    "    a = [0,0]\n",
    "    tmp = []\n",
    "    for x in ts:    \n",
    "        if \"left\" in x:\n",
    "            a[0]=1\n",
    "            tmp.append(x)\n",
    "        if \"right\" in x:\n",
    "            a[1]=1\n",
    "            tmp.append(x)\n",
    "    if a==[1,1]:\n",
    "        transacs_with_lr.append(tmp)\n",
    "print(\"with left and right transactions:\", len(transacs_with_lr))"
   ]
  },
  {
   "cell_type": "code",
   "execution_count": null,
   "metadata": {
    "collapsed": true
   },
   "outputs": [],
   "source": [
    "### 挖掘同时有左右最常出现的部件数目"
   ]
  },
  {
   "cell_type": "code",
   "execution_count": null,
   "metadata": {},
   "outputs": [],
   "source": [
    "# transet =transacs_with_lr)\n",
    "minsup = 1\n",
    "for itemset in find_frequent_itemsets(transacs_with_lr, minsup):\n",
    "    if any([\"right\" in x for x in itemset]) and any(['left' in x for x in itemset]):\n",
    "        if itemset in transacs_with_lr:\n",
    "            print itemset"
   ]
  }
 ],
 "metadata": {
  "kernelspec": {
   "display_name": "Python 2",
   "language": "python",
   "name": "python2"
  },
  "language_info": {
   "codemirror_mode": {
    "name": "ipython",
    "version": 2
   },
   "file_extension": ".py",
   "mimetype": "text/x-python",
   "name": "python",
   "nbconvert_exporter": "python",
   "pygments_lexer": "ipython2",
   "version": "2.7.13"
  }
 },
 "nbformat": 4,
 "nbformat_minor": 2
}
