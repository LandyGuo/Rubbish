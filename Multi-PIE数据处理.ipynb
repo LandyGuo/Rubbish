{
 "cells": [
  {
   "cell_type": "code",
   "execution_count": 3,
   "metadata": {
    "collapsed": true
   },
   "outputs": [],
   "source": [
    "import os\n",
    "import re"
   ]
  },
  {
   "cell_type": "code",
   "execution_count": 13,
   "metadata": {
    "collapsed": false
   },
   "outputs": [
    {
     "name": "stdout",
     "output_type": "stream",
     "text": [
      "02_02\n"
     ]
    }
   ],
   "source": [
    "s = \"002_02_02_051_09.png\"\n",
    "print pattern.match(s).group(2)"
   ]
  },
  {
   "cell_type": "code",
   "execution_count": 17,
   "metadata": {
    "collapsed": false
   },
   "outputs": [],
   "source": [
    "\"\"\"选择需要的pattern的图片,\n",
    "group(1):subject id; \n",
    "group(2): emition; \n",
    "group(3):头部旋转角度，这里选择0'和+-15度角的图像；\n",
    "group(4)：光照角度，选择正面光照\n",
    "----------------------------------------------\n",
    "group(2)与表情标号对应关系:\n",
    "group(2):\n",
    "NE :   01_01 , 02_01 , 03_01 , 04_01 , 04_02\n",
    "SM :   01_02 ,         03_02     \n",
    "SU :           02_02  \n",
    "SQ :           02_03\n",
    "DI :                   03_03\n",
    "SC :                                    04_03      \n",
    "\n",
    "\"\"\"\n",
    "regex = r\"\"\"(\\d{3})_(\\d{2}_\\d{2})_(051|050|140)_(09).png\"\"\"\n",
    "pattern = re.compile(regex)\n",
    "save_dir = \"./images\"\n",
    "\n",
    "for dirpath, dirnames, filenames in os.walk('.'):\n",
    "    for filename in filenames:\n",
    "        if pattern.match(filename):\n",
    "            source = os.path.join(dirpath,filename)\n",
    "            target = os.path.join(save_dir,filename)\n",
    "            open(target,'wb+').write(open(source,'rb').read())\n",
    "            "
   ]
  }
 ],
 "metadata": {
  "anaconda-cloud": {},
  "kernelspec": {
   "display_name": "Python [conda root]",
   "language": "python",
   "name": "conda-root-py"
  },
  "language_info": {
   "codemirror_mode": {
    "name": "ipython",
    "version": 2
   },
   "file_extension": ".py",
   "mimetype": "text/x-python",
   "name": "python",
   "nbconvert_exporter": "python",
   "pygments_lexer": "ipython2",
   "version": "2.7.12"
  }
 },
 "nbformat": 4,
 "nbformat_minor": 1
}
